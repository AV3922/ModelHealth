{
 "cells": [
  {
   "cell_type": "code",
   "execution_count": null,
   "id": "b4d4aae2-7ba6-4777-afb9-4dd9bdc862f1",
   "metadata": {},
   "outputs": [],
   "source": [
    "import pandas as pd\n",
    "import numpy as np\n",
    "import gspread\n",
    "from google.oauth2.service_account import Credentials\n",
    "import joblib\n",
    "\n",
    "# ✅ Google Sheets API Credentials\n",
    "SERVICE_ACCOUNT_FILE = \"your_service_account.json\"\n",
    "SCOPES = [\"https://spreadsheets.google.com/feeds\", \"https://www.googleapis.com/auth/drive\"]\n",
    "\n",
    "creds = Credentials.from_service_account_file(SERVICE_ACCOUNT_FILE, scopes=SCOPES)\n",
    "client = gspread.authorize(creds)\n",
    "\n",
    "# ✅ Load Google Sheet\n",
    "SHEET_ID = \"YOUR_GOOGLE_SHEET_ID\"\n",
    "SHEET_NAME = \"Sheet1\"\n",
    "sheet = client.open_by_key(SHEET_ID).worksheet(SHEET_NAME)\n",
    "\n",
    "# ✅ Load Trained SOH Model\n",
    "model = joblib.load(\"rf_soh_model.pkl\")\n",
    "\n",
    "def fetch_google_sheet_data():\n",
    "    \"\"\" Fetches the latest 15-minute battery data from Google Sheets. \"\"\"\n",
    "    data = sheet.get_all_values()\n",
    "    df = pd.DataFrame(data[1:], columns=data[0])  # Convert to DataFrame\n",
    "    df = df.astype({\"Voltage\": float, \"Current\": float, \"Capacity\": float, \"Hour\": int, \"Minute\": int, \"Seconds\": int})\n",
    "    \n",
    "    # ✅ Extract last 15 minutes of data\n",
    "    df['Time (s)'] = df['Hour'] * 3600 + df['Minute'] * 60 + df['Seconds']\n",
    "    df = df[df['Time (s)'] >= (df['Time (s)'].max() - 899)]  # Keep last 15 min\n",
    "    \n",
    "    return df\n",
    "\n",
    "def estimate_soh():\n",
    "    \"\"\" Estimates SOH using the trained model. \"\"\"\n",
    "    df = fetch_google_sheet_data()\n",
    "\n",
    "    if df.empty:\n",
    "        print(\"🚨 No data available for SOH estimation.\")\n",
    "        return\n",
    "\n",
    "    # ✅ Prepare Data for Model\n",
    "    features = df[['Voltage', 'Current']]\n",
    "    soh_pred = model.predict(features)\n",
    "\n",
    "    # ✅ Calculate Mean SOH\n",
    "    estimated_soh = np.mean(soh_pred)\n",
    "\n",
    "    # ✅ Write Back to Google Sheets\n",
    "    sheet.update_cell(2, 8, f\"{estimated_soh:.2f}%\")  # Update SOH in 2nd row, Column H\n",
    "    \n",
    "    print(f\"✅ SOH Estimation Completed: {estimated_soh:.2f}%\")\n",
    "\n",
    "if __name__ == \"__main__\":\n",
    "    estimate_soh()\n"
   ]
  }
 ],
 "metadata": {
  "kernelspec": {
   "display_name": "Python 3 (ipykernel)",
   "language": "python",
   "name": "python3"
  },
  "language_info": {
   "codemirror_mode": {
    "name": "ipython",
    "version": 3
   },
   "file_extension": ".py",
   "mimetype": "text/x-python",
   "name": "python",
   "nbconvert_exporter": "python",
   "pygments_lexer": "ipython3",
   "version": "3.13.2"
  }
 },
 "nbformat": 4,
 "nbformat_minor": 5
}
